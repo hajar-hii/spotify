{
 "cells": [
  {
   "cell_type": "code",
   "execution_count": null,
   "metadata": {},
   "outputs": [],
   "source": [
    "import spotipy"
   ]
  },
  {
   "cell_type": "code",
   "execution_count": null,
   "metadata": {},
   "outputs": [
    {
     "name": "stdout",
     "output_type": "stream",
     "text": [
      "Justice (The Complete Edition)\n",
      "Justice (The Complete Edition)\n",
      "Justice (Triple Chucks Deluxe)\n",
      "Justice (Triple Chucks Deluxe)\n",
      "Justice\n",
      "Justice\n",
      "Changes\n",
      "Purpose (Deluxe)\n",
      "Purpose (Deluxe)\n",
      "Journals\n",
      "Journals\n",
      "Journals\n",
      "Believe Acoustic\n",
      "Believe Acoustic\n",
      "Believe (Deluxe Edition)\n",
      "Believe\n",
      "Believe (Deluxe Edition)\n",
      "Never Say Never - The Remixes\n",
      "Never Say Never - The Remixes\n",
      "Under The Mistletoe\n",
      "Under The Mistletoe\n",
      "Under The Mistletoe (Deluxe Edition)\n",
      "Under The Mistletoe (Deluxe Edition)\n",
      "Under The Mistletoe (Deluxe Edition)\n",
      "My World 2.0\n",
      "My Worlds (International Version)\n",
      "My Worlds (Oz Version)\n",
      "My Worlds Acoustic\n",
      "My World\n",
      "My World (Canada Version - All BP's)\n",
      "My World (France Version)\n"
     ]
    }
   ],
   "source": [
    "from csv import reader\n",
    "import spotipy\n",
    "from spotipy.oauth2 import SpotifyClientCredentials\n",
    "\n",
    "\n",
    "justin_uri = 'spotify:artist:1uNFoZAHBGtllmzznpCI3s'\n",
    "spotify = spotipy.Spotify(client_credentials_manager=SpotifyClientCredentials(client_id='e4200ab456fe497d94bd17721aea83b2',client_secret='7e7da44c308642a9a3296e12ae7a966e'))\n",
    "results = spotify.artist_albums(justin_uri, album_type='album')\n",
    "albums = results['items']\n",
    "\n",
    "while results['next']:\n",
    "    results = spotify.next(results)\n",
    "    albums.extend(results['items'])\n",
    "    \n",
    "for album in albums:\n",
    "    print(album['name'])\n",
    "\n",
    "\n"
   ]
  },
  {
   "cell_type": "markdown",
   "metadata": {},
   "source": [
    "import urllib.request\n",
    "import re\n",
    "emotion=input(\"enter your emotion\")\n",
    "emotion.lower()\n",
    "if emotion==\"neutral\":\n",
    "    str=\"this is your playlist https://open.spotify.com/\"\n",
    "    url=re.findall('http[s]?://(?:[a-zA-Z]|[0-9]|[$-_@.&+]|[!*\\(\\),]|(?:%[0-9a-fA-F][0-9a-fA-F]))+')\n",
    "    print(url)\n",
    "else:\n",
    "    print(\"0\")"
   ]
  }
 ],
 "metadata": {
  "kernelspec": {
   "display_name": "Python 3.11.1 64-bit",
   "language": "python",
   "name": "python3"
  },
  "language_info": {
   "codemirror_mode": {
    "name": "ipython",
    "version": 3
   },
   "file_extension": ".py",
   "mimetype": "text/x-python",
   "name": "python",
   "nbconvert_exporter": "python",
   "pygments_lexer": "ipython3",
   "version": "3.11.1"
  },
  "orig_nbformat": 4,
  "vscode": {
   "interpreter": {
    "hash": "b3b5c13f81a7e687e85e7a38ff25539e9dbab1591a501b04f75caa4e0ceb14c6"
   }
  }
 },
 "nbformat": 4,
 "nbformat_minor": 2
}
